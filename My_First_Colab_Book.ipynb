{
  "nbformat": 4,
  "nbformat_minor": 0,
  "metadata": {
    "colab": {
      "name": "My First Colab Book.ipynb",
      "provenance": [],
      "authorship_tag": "ABX9TyOU+jEArz+czyKwwVXaPHvp",
      "include_colab_link": true
    },
    "kernelspec": {
      "name": "python3",
      "display_name": "Python 3"
    },
    "language_info": {
      "name": "python"
    }
  },
  "cells": [
    {
      "cell_type": "markdown",
      "metadata": {
        "id": "view-in-github",
        "colab_type": "text"
      },
      "source": [
        "<a href=\"https://colab.research.google.com/github/20pa1a05a5sathyasaisaketh/Basic-ML/blob/main/My_First_Colab_Book.ipynb\" target=\"_parent\"><img src=\"https://colab.research.google.com/assets/colab-badge.svg\" alt=\"Open In Colab\"/></a>"
      ]
    },
    {
      "cell_type": "markdown",
      "metadata": {
        "id": "lHLsDQpLy0T0"
      },
      "source": [
        "# My First Notebook"
      ]
    },
    {
      "cell_type": "markdown",
      "metadata": {
        "id": "7fkD3T8r0g0j"
      },
      "source": [
        "# (1)Even or Odd"
      ]
    },
    {
      "cell_type": "code",
      "metadata": {
        "colab": {
          "base_uri": "https://localhost:8080/"
        },
        "id": "Wb74m3tx0uKL",
        "outputId": "9c84a3fa-c185-41bc-903b-d6e52ab5bcef"
      },
      "source": [
        "n=42\n",
        "if(n%2==0):\n",
        "  print(\"The given number is even\")\n",
        "else:\n",
        "    print(\"The given number is odd\")"
      ],
      "execution_count": 3,
      "outputs": [
        {
          "output_type": "stream",
          "text": [
            "The given number is even\n"
          ],
          "name": "stdout"
        }
      ]
    },
    {
      "cell_type": "markdown",
      "metadata": {
        "id": "D2drVg7R1oXq"
      },
      "source": [
        "Description:-\n",
        "\n",
        "This code helps to identify,whether the given number is even or odd.Here we use the conditioon statements 'if' and 'else' to identify the given number is even or odd.'%' division gives the remainder.so when we use the condition 'n%2==0',as in the place of 'n' we gave the number '42' then 42 is divided by 2 and gives remainder as '0'.Therefore it prints the given number is even."
      ]
    },
    {
      "cell_type": "markdown",
      "metadata": {
        "id": "Nq9YdOzl4I_u"
      },
      "source": [
        "# (2)Sum of Two NUmbers"
      ]
    },
    {
      "cell_type": "code",
      "metadata": {
        "colab": {
          "base_uri": "https://localhost:8080/"
        },
        "id": "OgqoKUHPuvUM",
        "outputId": "850dabff-1b19-4041-fc72-a8468472d5a5"
      },
      "source": [
        "a=12\n",
        "b=14\n",
        "c=a+b\n",
        "print(c)"
      ],
      "execution_count": 4,
      "outputs": [
        {
          "output_type": "stream",
          "text": [
            "26\n"
          ],
          "name": "stdout"
        }
      ]
    },
    {
      "cell_type": "markdown",
      "metadata": {
        "id": "ucuynLkh4qm9"
      },
      "source": [
        "Description:-\n",
        "Here we find out the sum of two numbers.Here we gave 'a' as '12' and 'b' as '14' and then give the condition 'c=a+b' then we print the 'c' value.Therefore it prints the sum as '26'."
      ]
    },
    {
      "cell_type": "markdown",
      "metadata": {
        "id": "bJLv2iIX5O7C"
      },
      "source": [
        "# (3)Maximum of Three Numbers"
      ]
    },
    {
      "cell_type": "code",
      "metadata": {
        "colab": {
          "base_uri": "https://localhost:8080/"
        },
        "id": "xZuN-yOB5YkF",
        "outputId": "3ebf3c8d-08be-4163-db1a-9f53326242a4"
      },
      "source": [
        "a=5\n",
        "b=9\n",
        "c=3\n",
        "if a>b and a>c:\n",
        "    print(\"a is maximum\")\n",
        "elif b>c:\n",
        "    print(\"b is maximum\")\n",
        "else:\n",
        "    print(\"c is maximum\")"
      ],
      "execution_count": 5,
      "outputs": [
        {
          "output_type": "stream",
          "text": [
            "b is maximum\n"
          ],
          "name": "stdout"
        }
      ]
    },
    {
      "cell_type": "markdown",
      "metadata": {
        "id": "rtgtp0f_5-pZ"
      },
      "source": [
        "Description:-\n",
        "Here we found the maximum among three numbers.Here we use 'if' condition statement.Here we gave the conditions the if 'a' is greaterthan 'b' and 'c' then print 'a is maximum' or if 'b' is greaterthan 'c' then print 'b is maximum' or print 'c is maximum'.By the inputs values we had given it prints that the 'b is maximum'."
      ]
    }
  ]
}